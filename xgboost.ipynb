{
 "cells": [
  {
   "cell_type": "code",
   "execution_count": null,
   "id": "f30ab7ba",
   "metadata": {},
   "outputs": [],
   "source": [
    "import glob\n",
    "import os\n",
    "import pandas as pd\n",
    "import torch\n",
    "import numpy as np\n",
    "from torchvision import models, transforms\n",
    "from torch.autograd import Variable\n",
    "from PIL import Image\n",
    "from tqdm import tqdm\n",
    "from torch import nn\n",
    "import xgboost as xgb\n",
    "from sklearn.model_selection import train_test_split\n",
    "import numpy as np\n",
    "from sklearn.model_selection import KFold, train_test_split, GridSearchCV"
   ]
  },
  {
   "cell_type": "code",
   "execution_count": null,
   "id": "5adc6bd3",
   "metadata": {},
   "outputs": [],
   "source": [
    "dataset_folder_name = 'UTKFace'\n",
    "\n",
    "TRAIN_TEST_SPLIT = 0.8\n",
    "IM_WIDTH = IM_HEIGHT = 198\n",
    "\n",
    "dataset_dict = {\n",
    "    'gender_id': {\n",
    "        0: 'male',\n",
    "        1: 'female'\n",
    "    }\n",
    "}\n",
    "\n",
    "dataset_dict['gender_alias'] = dict((g, i) for i, g in dataset_dict['gender_id'].items())"
   ]
  },
  {
   "cell_type": "code",
   "execution_count": null,
   "id": "fedb1acc",
   "metadata": {},
   "outputs": [],
   "source": [
    "def parse_dataset(dataset_path, ext='jpg'):\n",
    "    \"\"\"\n",
    "    Used to extract information about our dataset. It does iterate over all images and return a DataFrame with\n",
    "    the data (age, gender and sex) of all files.\n",
    "    \"\"\"\n",
    "    def parse_info_from_file(path):\n",
    "        \"\"\"\n",
    "        Parse information from a single file\n",
    "        \"\"\"\n",
    "        try:\n",
    "            filename = os.path.split(path)[1]\n",
    "            filename = os.path.splitext(filename)[0]\n",
    "            age, gender, race, _ = filename.split('_')\n",
    "\n",
    "            return int(age), dataset_dict['gender_id'][int(gender)]\n",
    "        except Exception as ex:\n",
    "            return None, None\n",
    "        \n",
    "    files = glob.glob(os.path.join(dataset_path, \"*.%s\" % ext))\n",
    "    \n",
    "    records = []\n",
    "    for file in files:\n",
    "        info = parse_info_from_file(file)\n",
    "        records.append(info)\n",
    "        \n",
    "    df = pd.DataFrame(records)\n",
    "    df['file'] = files\n",
    "    df.columns = ['age', 'gender', 'file']\n",
    "    df = df.dropna()\n",
    "    \n",
    "    return df"
   ]
  },
  {
   "cell_type": "code",
   "execution_count": null,
   "id": "38c4fea2",
   "metadata": {},
   "outputs": [],
   "source": [
    "new_model = models.alexnet(pretrained=True)\n",
    "new_classifier = nn.Sequential(*list(new_model.classifier.children())[:-1])\n",
    "new_model.classifier = new_classifier\n",
    "features_a = np.zeros((23705,4096))\n",
    "for i, file in tqdm(enumerate(df['file'])):\n",
    "    img_cat = Image.open(file).convert('RGB')\n",
    "    preprocess = transforms.Compose([\n",
    "            transforms.Resize(224),\n",
    "#             transforms.CenterCrop(224),\n",
    "            transforms.ToTensor(),\n",
    "            transforms.Normalize(\n",
    "            mean=[0.485, 0.456, 0.406],\n",
    "            std=[0.229, 0.224, 0.225]\n",
    "        )])\n",
    "    \n",
    "    img_cat_preprocessed = preprocess(img_cat)\n",
    "    batch_img_cat_tensor = torch.unsqueeze(img_cat_preprocessed, 0)\n",
    "    img_var = Variable(batch_img_cat_tensor) # assign it to a variable\n",
    "    features_var = new_model(img_var) # get the output from the last hidden layer of the pretrained resnet\n",
    "    features_a[i,:] = features_var.data # get the tensor out of the variable"
   ]
  },
  {
   "cell_type": "code",
   "execution_count": null,
   "id": "3d68ccaf",
   "metadata": {},
   "outputs": [],
   "source": [
    "y = []\n",
    "for i in df['gender']:\n",
    "    if i == 'female':\n",
    "        y.append(1)\n",
    "    else:\n",
    "        y.append(0)\n",
    "X_train, X_test, y_train, y_test = train_test_split(features_a, y, test_size=0.2, random_state=42)"
   ]
  },
  {
   "cell_type": "code",
   "execution_count": null,
   "id": "c870b729",
   "metadata": {},
   "outputs": [],
   "source": [
    "parameters_gender = {\n",
    "    'max_depth': [5, 10, 15, 20, 25],\n",
    "    'learning_rate': [0.01, 0.02, 0.05, 0.1, 0.15],\n",
    "    'n_estimators': [50, 100, 150, 200, 300, 500],\n",
    "    'min_child_weight': [0, 2, 5, 10, 20],\n",
    "    'gamma': [0, 0.1, 0.2, 0.3, 0.4, 0.5]\n",
    "}"
   ]
  },
  {
   "cell_type": "code",
   "execution_count": null,
   "id": "71062a58",
   "metadata": {},
   "outputs": [],
   "source": [
    "xgb_gender = GridSearchCV(xgb.XGBClassifier(), param_grid=parameters_gender, cv=10).fit(X_train, y_train)\n",
    "sum(y_test==clf.predict(X_test))/len(y_test)"
   ]
  },
  {
   "cell_type": "code",
   "execution_count": null,
   "id": "f101580c",
   "metadata": {},
   "outputs": [],
   "source": [
    "X_train, X_test, y_train, y_test = train_test_split(features_a, df['age'], test_size=0.2, random_state=42)"
   ]
  },
  {
   "cell_type": "code",
   "execution_count": null,
   "id": "1665daf9",
   "metadata": {},
   "outputs": [],
   "source": [
    "parameters_age = {\n",
    "    'max_depth': [5, 10, 15, 20, 25],\n",
    "    'learning_rate': [0.01, 0.02, 0.05, 0.1, 0.15],\n",
    "    'n_estimators': [50, 100, 150, 200, 300, 500],\n",
    "    'min_child_weight': [0, 2, 5, 10, 20],\n",
    "    'gamma': [0, 0.1, 0.2, 0.3, 0.4, 0.5],\n",
    "    'subsample': [0.6, 0.7, 0.8, 0.85, 0.95]\n",
    "}"
   ]
  },
  {
   "cell_type": "code",
   "execution_count": null,
   "id": "71ad6cd1",
   "metadata": {},
   "outputs": [],
   "source": [
    "xgb_gender = GridSearchCV(xgb.XGBRegressor(), param_grid=parameters_age, cv=10).fit(X_train, y_train)\n",
    "mean_squared_error(y_test,clf.predict(X_test))"
   ]
  }
 ],
 "metadata": {
  "kernelspec": {
   "display_name": "Python 3 (ipykernel)",
   "language": "python",
   "name": "python3"
  },
  "language_info": {
   "codemirror_mode": {
    "name": "ipython",
    "version": 3
   },
   "file_extension": ".py",
   "mimetype": "text/x-python",
   "name": "python",
   "nbconvert_exporter": "python",
   "pygments_lexer": "ipython3",
   "version": "3.9.6"
  }
 },
 "nbformat": 4,
 "nbformat_minor": 5
}
